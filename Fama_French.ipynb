{
  "nbformat": 4,
  "nbformat_minor": 0,
  "metadata": {
    "colab": {
      "provenance": [],
      "authorship_tag": "ABX9TyNOX2Gu+Ah2kxauANzFw5h0",
      "include_colab_link": true
    },
    "kernelspec": {
      "name": "python3",
      "display_name": "Python 3"
    },
    "language_info": {
      "name": "python"
    }
  },
  "cells": [
    {
      "cell_type": "markdown",
      "metadata": {
        "id": "view-in-github",
        "colab_type": "text"
      },
      "source": [
        "<a href=\"https://colab.research.google.com/github/newmantic/Fama_French/blob/main/Fama_French.ipynb\" target=\"_parent\"><img src=\"https://colab.research.google.com/assets/colab-badge.svg\" alt=\"Open In Colab\"/></a>"
      ]
    },
    {
      "cell_type": "code",
      "execution_count": 1,
      "metadata": {
        "colab": {
          "base_uri": "https://localhost:8080/"
        },
        "id": "0t7nFR3E4-bU",
        "outputId": "44c7d6a7-3825-432a-93a1-7aa722cb894e"
      },
      "outputs": [
        {
          "output_type": "stream",
          "name": "stdout",
          "text": [
            "Estimated Betas: Market-Rf    1.164535\n",
            "SMB          0.784702\n",
            "HML          1.513450\n",
            "dtype: float64\n",
            "Expected Return (using Fama-French): 0.13\n"
          ]
        }
      ],
      "source": [
        "import numpy as np\n",
        "import pandas as pd\n",
        "import statsmodels.api as sm\n",
        "\n",
        "def estimate_fama_french_betas(asset_returns, factor_returns):\n",
        "    \"\"\"\n",
        "    Estimate the betas (factor sensitivities) for an asset using the Fama-French three-factor model.\n",
        "\n",
        "    :param asset_returns: Array of returns for the asset\n",
        "    :param factor_returns: DataFrame of returns for the factors (Market-Rf, SMB, HML)\n",
        "    :return: Array of betas for the asset\n",
        "    \"\"\"\n",
        "    factor_returns = sm.add_constant(factor_returns)  # Add intercept term\n",
        "    model = sm.OLS(asset_returns, factor_returns)\n",
        "    results = model.fit()\n",
        "    return results.params[1:]  # Return betas (excluding the intercept)\n",
        "\n",
        "def calculate_fama_french_expected_return(risk_free_rate, betas, factor_premiums):\n",
        "    \"\"\"\n",
        "    Calculate the expected return of an asset using the Fama-French three-factor model.\n",
        "\n",
        "    :param risk_free_rate: Risk-free rate\n",
        "    :param betas: Array of betas (factor sensitivities) for the asset\n",
        "    :param factor_premiums: Array of factor premiums (Market-Rf, SMB, HML)\n",
        "    :return: Expected return of the asset\n",
        "    \"\"\"\n",
        "    return risk_free_rate + np.dot(betas, factor_premiums)\n",
        "\n",
        "# Testable Example\n",
        "\n",
        "# Assume we have historical return data for an asset and the Fama-French factors\n",
        "np.random.seed(42)\n",
        "market_rf = np.random.normal(0.05, 0.1, 100)  # Simulate market risk premium\n",
        "smb = np.random.normal(0.02, 0.05, 100)       # Simulate SMB returns\n",
        "hml = np.random.normal(0.03, 0.04, 100)       # Simulate HML returns\n",
        "asset_returns = 0.03 + 1.2 * market_rf + 0.8 * smb + 1.5 * hml + np.random.normal(0, 0.02, 100)\n",
        "\n",
        "# Combine factors into a DataFrame\n",
        "factor_returns = pd.DataFrame({\n",
        "    'Market-Rf': market_rf,\n",
        "    'SMB': smb,\n",
        "    'HML': hml\n",
        "})\n",
        "\n",
        "# Parameters\n",
        "risk_free_rate = 0.01  # 1% risk-free rate\n",
        "factor_premiums = np.array([0.05, 0.02, 0.03])  # Assumed premiums for the factors\n",
        "\n",
        "# Estimate betas\n",
        "betas = estimate_fama_french_betas(asset_returns, factor_returns)\n",
        "print(f\"Estimated Betas: {betas}\")\n",
        "\n",
        "# Calculate expected return using Fama-French\n",
        "expected_return = calculate_fama_french_expected_return(risk_free_rate, betas, factor_premiums)\n",
        "print(f\"Expected Return (using Fama-French): {expected_return:.2f}\")"
      ]
    }
  ]
}